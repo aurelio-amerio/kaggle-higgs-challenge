{
 "cells": [
  {
   "cell_type": "markdown",
   "metadata": {},
   "source": [
    "# Import data and preprocess it"
   ]
  },
  {
   "cell_type": "code",
   "execution_count": 1,
   "metadata": {
    "scrolled": true
   },
   "outputs": [],
   "source": [
    "import pandas as pd\n",
    "import numpy as np\n",
    "import tensorflow as tf\n",
    "import matplotlib.pyplot as plt\n",
    "\n",
    "use_all_features = True\n",
    "use_full_data = True\n",
    "test_sml_size = 3000"
   ]
  },
  {
   "cell_type": "code",
   "execution_count": 2,
   "metadata": {
    "scrolled": true
   },
   "outputs": [],
   "source": [
    "#file paths \n",
    "\n",
    "train_sig_path_sml = \"data/train_sml_sig.csv\"\n",
    "train_bg_path_sml = \"data/train_sml_bg.csv\"\n",
    "train_sig_path = \"data/train_sig.csv\"\n",
    "train_bg_path = \"data/train_bg.csv\"\n",
    "test_sig_path = \"data/test_sig.csv\"\n",
    "test_bg_path = \"data/test_bg.csv\"\n",
    "\n",
    "#read csv\n",
    "train_sig_sml = pd.read_csv(train_sig_path_sml, header=0)\n",
    "train_bg_sml = pd.read_csv(train_bg_path_sml, header=0)\n",
    "train_sig = pd.read_csv(train_sig_path, header=0)\n",
    "train_bg = pd.read_csv(train_bg_path, header=0)\n",
    "test_sig = pd.read_csv(test_sig_path, header=0)\n",
    "test_bg = pd.read_csv(test_bg_path, header=0)\n",
    "\n",
    "#merge sig and bg dataframes\n",
    "all_data_train_sml = train_bg_sml.append(train_sig_sml)\n",
    "all_data_train = train_bg.append(train_sig)\n",
    "all_data_test = test_bg.append(test_sig)\n",
    "\n",
    "#one hot encode the labels -> i get two new features: Label_b and Label_s\n",
    "all_data_train_sml_one_hot = pd.get_dummies(all_data_train_sml)\n",
    "all_data_train_one_hot = pd.get_dummies(all_data_train)\n",
    "all_data_test_one_hot = pd.get_dummies(all_data_test)\n",
    "\n",
    "#two distinct arrays of deatures\n",
    "listOfSelectedFeatures = [\"DER_mass_MMC\", \"DER_mass_transverse_met_lep\", \"DER_mass_vis\", \"DER_pt_tot\", \"DER_sum_pt\",\n",
    "                          \"PRI_tau_pt\", \"PRI_lep_pt\", \"PRI_met\"]\n",
    "listOfAllFeatures = ['DER_mass_MMC', 'DER_mass_transverse_met_lep', 'DER_mass_vis', 'DER_pt_h', 'DER_deltaeta_jet_jet',\n",
    "                     'DER_mass_jet_jet', 'DER_prodeta_jet_jet', 'DER_deltar_tau_lep', 'DER_pt_tot', 'DER_sum_pt',\n",
    "                     'DER_pt_ratio_lep_tau', 'DER_met_phi_centrality', 'DER_lep_eta_centrality', 'PRI_tau_pt',\n",
    "                     'PRI_tau_eta', 'PRI_tau_phi', 'PRI_lep_pt', 'PRI_lep_eta', 'PRI_lep_phi', 'PRI_met', 'PRI_met_phi',\n",
    "                     'PRI_met_sumet', 'PRI_jet_num', 'PRI_jet_leading_pt', 'PRI_jet_leading_eta', 'PRI_jet_leading_phi',\n",
    "                     'PRI_jet_subleading_pt', 'PRI_jet_subleading_eta', 'PRI_jet_subleading_phi', 'PRI_jet_all_pt']\n",
    "\n",
    "\n",
    "\n",
    "#create numpy arrays containing the data\n",
    "if use_all_features is True:\n",
    "\n",
    "    X_train_raw_full = all_data_train_one_hot[listOfAllFeatures].values\n",
    "    X_train_raw_sml = all_data_train_sml_one_hot[listOfAllFeatures].values\n",
    "\n",
    "    X_test_raw_full = all_data_test_one_hot[listOfAllFeatures].values\n",
    "\n",
    "    #select onlya certain number of points from the test dataset \n",
    "    perm = np.arange(len(X_test_raw_full))\n",
    "    np.random.shuffle(perm)\n",
    "    X_test_raw_sml = all_data_test_one_hot[listOfAllFeatures].values[perm[:test_sml_size]]\n",
    "else:\n",
    "    X_train_raw_full = all_data_train_one_hot[listOfSelectedFeatures].values\n",
    "    X_train_raw_sml = all_data_train_sml_one_hot[listOfSelectedFeatures].values\n",
    "\n",
    "    X_test_raw_full = all_data_test_one_hot[listOfSelectedFeatures].values\n",
    "\n",
    "    #select onlya certain number of points from the test dataset\n",
    "    perm = np.arange(len(X_test_raw_full))\n",
    "    np.random.shuffle(perm)\n",
    "    X_test_raw_sml = all_data_test_one_hot[listOfSelectedFeatures].values[perm[:test_sml_size]]\n",
    "\n",
    "\n",
    "y_train_full = all_data_train_one_hot[[\"Label_b\", \"Label_s\"]].values\n",
    "y_train_sml = all_data_train_sml_one_hot[[\"Label_b\", \"Label_s\"]].values\n",
    "\n",
    "y_test_full = all_data_test_one_hot[[\"Label_b\", \"Label_s\"]].values\n",
    "y_test_sml = y_test_full[perm[:test_sml_size]]\n"
   ]
  },
  {
   "cell_type": "markdown",
   "metadata": {},
   "source": [
    "### select which dataset to use and scale it"
   ]
  },
  {
   "cell_type": "code",
   "execution_count": 3,
   "metadata": {
    "scrolled": true
   },
   "outputs": [],
   "source": [
    "#select dataset based on preference stated before\n",
    "if use_full_data is True:\n",
    "    X_train_to_scale = X_train_raw_full\n",
    "    X_test_to_scale = X_test_raw_full\n",
    "    y_train = y_train_full\n",
    "    y_test = y_test_full\n",
    "else:\n",
    "    X_train_to_scale = X_train_raw_sml\n",
    "    X_test_to_scale = X_test_raw_sml\n",
    "    y_train = y_train_sml\n",
    "    y_test = y_test_sml\n"
   ]
  },
  {
   "cell_type": "code",
   "execution_count": 4,
   "metadata": {
    "scrolled": true
   },
   "outputs": [],
   "source": [
    "# preprocessing using zero mean and unit variance scaling\n",
    "from sklearn.preprocessing import MinMaxScaler, StandardScaler\n",
    "from sklearn.model_selection import train_test_split\n",
    "\n",
    "# split data in training and validation set, obsolete as I've implemented it in the fit subroutine, \n",
    "# I've decided to keep it as it may prove to be usefull for further analysis\n",
    "split_val = False\n",
    "\n",
    "if split_val is True:\n",
    "    #split training data in train and val set\n",
    "    X_train_to_scale, X_val_to_scale, y_train, y_val = train_test_split(X_train_to_scale, y_train, test_size=0.1)\n",
    "\n",
    "    #rescale data\n",
    "    #scaler = MinMaxScaler(feature_range=(0, 1))\n",
    "    scaler = StandardScaler() #scale the features to have 0 mean and unit variance\n",
    "    scaler.fit(X_train_to_scale)\n",
    "\n",
    "    X_train = scaler.transform(X_train_to_scale)\n",
    "    X_val = scaler.transform(X_val_to_scale)\n",
    "    X_test = scaler.transform(X_test_to_scale)\n",
    "\n",
    "    n_features = X_train.shape[1]\n",
    "\n",
    "else:\n",
    "    #X_train_to_scale, y_train = X_train_to_scale , y_train\n",
    "\n",
    "    #rescale data\n",
    "    #scaler = MinMaxScaler(feature_range=(0, 1))\n",
    "    scaler = StandardScaler()\n",
    "    scaler.fit(X_train_to_scale)\n",
    "\n",
    "    X_train = scaler.transform(X_train_to_scale)\n",
    "    X_test = scaler.transform(X_test_to_scale)\n",
    "\n",
    "    n_features = X_train.shape[1]\n"
   ]
  },
  {
   "cell_type": "code",
   "execution_count": 5,
   "metadata": {
    "scrolled": true
   },
   "outputs": [
    {
     "name": "stdout",
     "output_type": "stream",
     "text": [
      "(250000, 30)\n",
      "(100000, 30)\n"
     ]
    }
   ],
   "source": [
    "print(X_train.shape)\n",
    "#print(X_val.shape)\n",
    "print(X_test.shape)\n"
   ]
  },
  {
   "cell_type": "code",
   "execution_count": 6,
   "metadata": {
    "scrolled": true
   },
   "outputs": [
    {
     "name": "stdout",
     "output_type": "stream",
     "text": [
      "(250000, 2)\n",
      "(100000, 2)\n"
     ]
    }
   ],
   "source": [
    "print(y_train.shape)\n",
    "print(y_test.shape)\n"
   ]
  },
  {
   "cell_type": "markdown",
   "metadata": {},
   "source": [
    "# Data analisys"
   ]
  },
  {
   "cell_type": "code",
   "execution_count": 7,
   "metadata": {
    "scrolled": true
   },
   "outputs": [
    {
     "name": "stdout",
     "output_type": "stream",
     "text": [
      "X_train:\n",
      "[[ 0.51670419  0.55250482  0.54013641 ... -0.63936657 -0.63936694\n",
      "  -0.27381996]\n",
      " [-2.33785898  3.19515553  1.09655998 ... -0.63936657 -0.63936694\n",
      "  -0.29396985]\n",
      " [ 0.47478905  0.9103791  -0.00585329 ... -0.63936657 -0.63936694\n",
      "  -0.74543941]\n",
      " ...\n",
      " [ 0.4490769   0.80068833  0.19121441 ... -0.63936657 -0.63936694\n",
      "  -0.02138021]\n",
      " [ 0.44075392 -1.28227632 -0.35271791 ...  1.56533987  1.55915785\n",
      "   4.8257834 ]\n",
      " [ 0.38016991  0.31931645 -0.13086367 ... -0.63936657 -0.63936694\n",
      "  -0.31701723]]\n",
      "shape=(250000, 30)\n",
      "\n",
      "y_train:\n",
      "[[1 0]\n",
      " [1 0]\n",
      " [1 0]\n",
      " ...\n",
      " [0 1]\n",
      " [0 1]\n",
      " [0 1]]\n",
      "shape=(250000, 2)\n",
      "\n",
      "X_test:\n",
      "[[-2.33785898  0.85866005 -1.40259448 ... -0.63936657 -0.63936694\n",
      "  -0.74543941]\n",
      " [ 0.29526911  0.48349894 -0.49553443 ... -0.63936657 -0.63936694\n",
      "  -0.74543941]\n",
      " [ 0.22002514  0.76953807 -1.13121615 ... -0.63936657 -0.63936694\n",
      "  -0.74543941]\n",
      " ...\n",
      " [ 0.30011475 -0.5528624  -0.92540458 ...  1.55834359  1.56533137\n",
      "   1.62619651]\n",
      " [ 0.41409676 -1.31404902 -0.14854735 ...  1.56926811  1.56329338\n",
      "   0.52687   ]\n",
      " [ 0.40493951 -0.92383619 -0.06201489 ... -0.63936657 -0.63936694\n",
      "  -0.74543941]]\n",
      "shape=(100000, 30)\n",
      "\n",
      "y_test:\n",
      "[[1 0]\n",
      " [1 0]\n",
      " [1 0]\n",
      " ...\n",
      " [0 1]\n",
      " [0 1]\n",
      " [0 1]]\n",
      "shape=(100000, 2)\n",
      "\n"
     ]
    }
   ],
   "source": [
    "#check if data has been imported correctly\n",
    "print(\"X_train:\\n{}\\nshape={}\\n\".format(X_train, X_train.shape))\n",
    "print(\"y_train:\\n{}\\nshape={}\\n\".format(y_train, y_train.shape))\n",
    "#print(\"X_val:\\n{}\\nshape={}\\n\".format(X_val,X_val.shape))\n",
    "#print(\"y_val:\\n{}\\nshape={}\\n\".format(y_val,y_val.shape))\n",
    "print(\"X_test:\\n{}\\nshape={}\\n\".format(X_test, X_test.shape))\n",
    "print(\"y_test:\\n{}\\nshape={}\\n\".format(y_test, y_test.shape))\n"
   ]
  },
  {
   "cell_type": "markdown",
   "metadata": {},
   "source": [
    "# calculate AMS"
   ]
  },
  {
   "cell_type": "code",
   "execution_count": 8,
   "metadata": {
    "scrolled": true
   },
   "outputs": [],
   "source": [
    "#\n",
    "def compute_AMS(model, X_test):\n",
    "    \"\"\" \n",
    "    Compute theApproximate Median Significance, given a model and the X_test set. Hardcoded to work with my tensors, \n",
    "    one may want to modify it in order to make it work in a more general scenario. \n",
    "    \n",
    "    Approximate Median Significance defined as:\n",
    "        AMS = sqrt(\n",
    "                2 { (s + b + b_r) log[1 + (s/(b+b_r))] - s}\n",
    "              )        \n",
    "    where b_r = 10, b = background, s = signal, log is natural logarithm \n",
    "    \"\"\"\n",
    "    # define a matric which contains our predictions, \n",
    "    # following nomenclature suggestend on the kaggle higgs challenge webpage\n",
    "    \n",
    "    submission_matrix=[] \n",
    "    predictions=model.predict(X_test)\n",
    "    #fill the matrix\n",
    "    for i in np.arange(X_test.shape[0]):\n",
    "        EventId=np.str(all_data_test_one_hot[\"EventId\"].values[i])\n",
    "    \n",
    "        pred=predictions[i]\n",
    "        if pred == 1:\n",
    "            #signal\n",
    "            label=1\n",
    "        else:\n",
    "            #background\n",
    "            label=0\n",
    "        submission_matrix.append(label)\n",
    "    \n",
    "    submission_matrix = np.array(submission_matrix)\n",
    "    \n",
    "    #matrix containing the labels and weights of the test dataset\n",
    "    solution_matrix=[]\n",
    "    #fill the matrix\n",
    "    for i in np.arange(X_test.shape[0]):\n",
    "    \n",
    "        weight=np.float(all_data_test[\"Weight\"].values[i])\n",
    "    \n",
    "        label_s=np.str(all_data_test[\"Label\"].values[i])\n",
    "        if label_s == \"s\":\n",
    "            #signal\n",
    "            label=1\n",
    "        else:\n",
    "            #bg\n",
    "            label=0\n",
    "        \n",
    "        solution_matrix.append([label,weight])\n",
    "    \n",
    "    solution_matrix = np.array(solution_matrix)\n",
    "    \n",
    "    b=0.\n",
    "    s=0.\n",
    "    # create sum of the weights for b and s, following the AMS evaluation code provided by the challenge\n",
    "    for i in np.arange(len(X_test)):\n",
    "        if submission_matrix[i]==1:\n",
    "            if solution_matrix[i,0]==1:\n",
    "                s+=solution_matrix[i,1]\n",
    "            elif solution_matrix[i,0]==0:\n",
    "                b+=solution_matrix[i,1]\n",
    "            else:\n",
    "                print(\"shouldn't get there\")\n",
    "                \n",
    "    \n",
    "\n",
    "    br = 10.0\n",
    "    radicand = 2 * ((s + b + br) * np.log(1.0 + s / (b + br)) - s)\n",
    "    if radicand < 0:\n",
    "        print('radicand is negative. Exiting')\n",
    "        exit()\n",
    "    else:\n",
    "        #return ams value\n",
    "        return np.sqrt(radicand)    "
   ]
  },
  {
   "cell_type": "markdown",
   "metadata": {},
   "source": [
    "## import lib v6.2 with weight l2 regularization, decaying learning rate decay"
   ]
  },
  {
   "cell_type": "code",
   "execution_count": 9,
   "metadata": {
    "scrolled": true
   },
   "outputs": [],
   "source": [
    "from Aurelio_Amerio_MLPClassifier_lib_v6_3 import MLPClassifier"
   ]
  },
  {
   "cell_type": "markdown",
   "metadata": {},
   "source": [
    "# model 1, 1 layer"
   ]
  },
  {
   "cell_type": "code",
   "execution_count": 34,
   "metadata": {
    "scrolled": true
   },
   "outputs": [
    {
     "name": "stdout",
     "output_type": "stream",
     "text": [
      "starting the fit\n",
      "progress:   0.00%\ttrain acc=0.6895\tval acc=0.6820\n",
      "progress:   1.00%\ttrain acc=0.7631\tval acc=0.7580\n",
      "progress:   2.00%\ttrain acc=0.7797\tval acc=0.7620\n",
      "progress:   3.00%\ttrain acc=0.7814\tval acc=0.7720\n",
      "progress:   4.00%\ttrain acc=0.7856\tval acc=0.7690\n",
      "progress:   5.00%\ttrain acc=0.7911\tval acc=0.7720\n",
      "progress:   6.00%\ttrain acc=0.7944\tval acc=0.7660\n",
      "progress:   7.00%\ttrain acc=0.7967\tval acc=0.7860\n",
      "progress:   8.00%\ttrain acc=0.8002\tval acc=0.7890\n",
      "progress:   9.00%\ttrain acc=0.7981\tval acc=0.7890\n",
      "progress:  10.00%\ttrain acc=0.7995\tval acc=0.7920\n",
      "progress:  11.00%\ttrain acc=0.8017\tval acc=0.7980\n",
      "progress:  12.00%\ttrain acc=0.8027\tval acc=0.7900\n",
      "progress:  13.00%\ttrain acc=0.7996\tval acc=0.7860\n",
      "progress:  14.00%\ttrain acc=0.8037\tval acc=0.7920\n",
      "progress:  15.00%\ttrain acc=0.7982\tval acc=0.7840\n",
      "progress:  16.00%\ttrain acc=0.7992\tval acc=0.7840\n",
      "progress:  17.00%\ttrain acc=0.8055\tval acc=0.7890\n",
      "progress:  18.00%\ttrain acc=0.8047\tval acc=0.7950\n",
      "progress:  19.00%\ttrain acc=0.8061\tval acc=0.7950\n",
      "progress:  20.00%\ttrain acc=0.8114\tval acc=0.7970\n",
      "progress:  21.00%\ttrain acc=0.8081\tval acc=0.7980\n",
      "progress:  22.00%\ttrain acc=0.8086\tval acc=0.7920\n",
      "progress:  23.00%\ttrain acc=0.8051\tval acc=0.7940\n",
      "progress:  24.00%\ttrain acc=0.8125\tval acc=0.7940\n",
      "progress:  25.00%\ttrain acc=0.8086\tval acc=0.7950\n",
      "progress:  26.00%\ttrain acc=0.8105\tval acc=0.7880\n",
      "progress:  27.00%\ttrain acc=0.8106\tval acc=0.7890\n",
      "progress:  28.00%\ttrain acc=0.8118\tval acc=0.7960\n",
      "progress:  29.00%\ttrain acc=0.8102\tval acc=0.7900\n",
      "progress:  30.00%\ttrain acc=0.8134\tval acc=0.7900\n",
      "progress:  31.00%\ttrain acc=0.8153\tval acc=0.7940\n",
      "progress:  32.00%\ttrain acc=0.8118\tval acc=0.7890\n",
      "progress:  33.00%\ttrain acc=0.8144\tval acc=0.7990\n",
      "progress:  34.00%\ttrain acc=0.8105\tval acc=0.7900\n",
      "progress:  35.00%\ttrain acc=0.8135\tval acc=0.7910\n",
      "progress:  36.00%\ttrain acc=0.8173\tval acc=0.7970\n",
      "progress:  37.00%\ttrain acc=0.8163\tval acc=0.7890\n",
      "progress:  38.00%\ttrain acc=0.8165\tval acc=0.7900\n",
      "progress:  39.00%\ttrain acc=0.8155\tval acc=0.7970\n",
      "progress:  40.00%\ttrain acc=0.8165\tval acc=0.7940\n",
      "progress:  41.00%\ttrain acc=0.8147\tval acc=0.7940\n",
      "progress:  42.00%\ttrain acc=0.8158\tval acc=0.7930\n",
      "progress:  43.00%\ttrain acc=0.8160\tval acc=0.7880\n",
      "progress:  44.00%\ttrain acc=0.8155\tval acc=0.7910\n",
      "progress:  45.00%\ttrain acc=0.8180\tval acc=0.7850\n",
      "progress:  46.00%\ttrain acc=0.8132\tval acc=0.7950\n",
      "progress:  47.00%\ttrain acc=0.8184\tval acc=0.7960\n",
      "progress:  48.00%\ttrain acc=0.8194\tval acc=0.7920\n",
      "progress:  49.00%\ttrain acc=0.8203\tval acc=0.7960\n",
      "progress:  50.00%\ttrain acc=0.8183\tval acc=0.7940\n",
      "progress:  51.00%\ttrain acc=0.8194\tval acc=0.7880\n",
      "progress:  52.00%\ttrain acc=0.8191\tval acc=0.7990\n",
      "progress:  53.00%\ttrain acc=0.8142\tval acc=0.7860\n",
      "progress:  54.00%\ttrain acc=0.8185\tval acc=0.7960\n",
      "progress:  55.00%\ttrain acc=0.8175\tval acc=0.7970\n",
      "progress:  56.00%\ttrain acc=0.8183\tval acc=0.7890\n",
      "progress:  57.00%\ttrain acc=0.8213\tval acc=0.7980\n",
      "progress:  58.00%\ttrain acc=0.8201\tval acc=0.7940\n",
      "progress:  59.00%\ttrain acc=0.8206\tval acc=0.7910\n",
      "progress:  60.00%\ttrain acc=0.8200\tval acc=0.7850\n",
      "progress:  61.00%\ttrain acc=0.8195\tval acc=0.7910\n",
      "progress:  62.00%\ttrain acc=0.8206\tval acc=0.7910\n",
      "progress:  63.00%\ttrain acc=0.8223\tval acc=0.7910\n",
      "progress:  64.00%\ttrain acc=0.8214\tval acc=0.7930\n",
      "progress:  65.00%\ttrain acc=0.8164\tval acc=0.7860\n",
      "progress:  66.00%\ttrain acc=0.8191\tval acc=0.7970\n",
      "progress:  67.00%\ttrain acc=0.8193\tval acc=0.7940\n",
      "progress:  68.00%\ttrain acc=0.8216\tval acc=0.7880\n",
      "progress:  69.00%\ttrain acc=0.8215\tval acc=0.7960\n",
      "progress:  70.00%\ttrain acc=0.8204\tval acc=0.8000\n",
      "progress:  71.00%\ttrain acc=0.8200\tval acc=0.7920\n",
      "progress:  72.00%\ttrain acc=0.8223\tval acc=0.7950\n",
      "progress:  73.00%\ttrain acc=0.8215\tval acc=0.7990\n",
      "progress:  74.00%\ttrain acc=0.8214\tval acc=0.7960\n",
      "progress:  75.00%\ttrain acc=0.8206\tval acc=0.7910\n",
      "progress:  76.00%\ttrain acc=0.8198\tval acc=0.7890\n",
      "progress:  77.00%\ttrain acc=0.8200\tval acc=0.8000\n",
      "progress:  78.00%\ttrain acc=0.8220\tval acc=0.7940\n",
      "progress:  79.00%\ttrain acc=0.8228\tval acc=0.7870\n",
      "progress:  80.00%\ttrain acc=0.8221\tval acc=0.8030\n",
      "progress:  81.00%\ttrain acc=0.8220\tval acc=0.8010\n",
      "progress:  82.00%\ttrain acc=0.8217\tval acc=0.7940\n",
      "progress:  83.00%\ttrain acc=0.8216\tval acc=0.7940\n",
      "progress:  84.00%\ttrain acc=0.8227\tval acc=0.7960\n",
      "progress:  85.00%\ttrain acc=0.8218\tval acc=0.7970\n",
      "progress:  86.00%\ttrain acc=0.8211\tval acc=0.7910\n",
      "progress:  87.00%\ttrain acc=0.8200\tval acc=0.7940\n",
      "progress:  88.00%\ttrain acc=0.8201\tval acc=0.7930\n",
      "progress:  89.00%\ttrain acc=0.8215\tval acc=0.7960\n",
      "progress:  90.00%\ttrain acc=0.8230\tval acc=0.7970\n",
      "progress:  91.00%\ttrain acc=0.8240\tval acc=0.8020\n",
      "progress:  92.00%\ttrain acc=0.8226\tval acc=0.8000\n",
      "progress:  93.00%\ttrain acc=0.8230\tval acc=0.7960\n",
      "progress:  94.00%\ttrain acc=0.8255\tval acc=0.7990\n",
      "progress:  95.00%\ttrain acc=0.8225\tval acc=0.8010\n",
      "progress:  96.00%\ttrain acc=0.8223\tval acc=0.8020\n",
      "progress:  97.00%\ttrain acc=0.8246\tval acc=0.8000\n",
      "progress:  98.00%\ttrain acc=0.8246\tval acc=0.7950\n",
      "progress:  99.00%\ttrain acc=0.8224\tval acc=0.7930\n",
      "fit routine completed, execution time: 122.78s\n"
     ]
    },
    {
     "data": {
      "text/plain": [
       "<Aurelio_Amerio_MLPClassifier_lib_v6_2.MLPClassifier at 0x130b42b73c8>"
      ]
     },
     "execution_count": 34,
     "metadata": {},
     "output_type": "execute_result"
    }
   ],
   "source": [
    "learning_rate_1 = 0.001\n",
    "keep_probs_1 = (0.8,)\n",
    "batch_size_1 = 128\n",
    "max_epochs_1 = 1000\n",
    "beta_w_1 = 0\n",
    "beta_b_1 = 0\n",
    "display_step_1 = 10\n",
    "n_features_1 = n_features\n",
    "# %% create model with 1 hidden layers\n",
    "model1 = MLPClassifier(n_layers=1, n_nodes=(256,), learning_rate=learning_rate_1, random_seed=None,\n",
    "                          n_features=n_features_1, n_classes=2)\n",
    "model1.fit(X_train=X_train, y_train=y_train, max_epochs=max_epochs_1,\n",
    "           display_step=display_step_1, batch_size=batch_size_1, keep_probs=keep_probs_1, validation_split=0.1,\n",
    "           beta_w=beta_w_1, beta_b=beta_b_1, verbose=True)\n"
   ]
  },
  {
   "cell_type": "code",
   "execution_count": 35,
   "metadata": {
    "scrolled": true
   },
   "outputs": [
    {
     "name": "stdout",
     "output_type": "stream",
     "text": [
      "model1 accuracy on train set: 0.822\n",
      "model1 accuracy on validation set: 0.794\n"
     ]
    }
   ],
   "source": [
    "print(\"model1 accuracy on train set: {:.3f}\".format(model1.score(X_train, y_train)))\n",
    "\n",
    "print(\"model1 accuracy on validation set: {:.3f}\".format(model1.score(model1.X_val, model1.y_val)))\n"
   ]
  },
  {
   "cell_type": "code",
   "execution_count": 44,
   "metadata": {
    "scrolled": false
   },
   "outputs": [
    {
     "data": {
      "image/png": "[encoded data removed]",
      "text/plain": [
       "<Figure size 432x432 with 2 Axes>"
      ]
     },
     "metadata": {},
     "output_type": "display_data"
    }
   ],
   "source": [
    "# %% plot results\n",
    "fig1, axes = plt.subplots(2, 1, figsize=(6, 6))\n",
    "\n",
    "x_ticks = np.arange(0, max_epochs_1, display_step_1)\n",
    "\n",
    "#axes[0].plot(x_ticks, model1.training_costs, color=\"blue\", label=\"model1 training\")\n",
    "#axes[0].plot(x_ticks, model1.val_costs, color=\"blue\", label=\"model1 test\",linestyle=\"dashed\")\n",
    "axes[0].plot(x_ticks, model1.training_costs, color=\"red\", label=\"model1 training\")\n",
    "axes[0].plot(x_ticks, model1.val_costs, color=\"orange\", label=\"model1 validation\", linestyle=\"dashed\")\n",
    "\n",
    "axes[0].set_xlabel(\"epochs\")\n",
    "axes[0].set_xscale(\"log\")\n",
    "axes[0].set_ylabel(\"cost\")\n",
    "axes[0].set_yscale(\"linear\")\n",
    "axes[0].set_ylim(0,2.5)\n",
    "axes[0].set_title(\n",
    "    \"cost(epoch) with dropout,\\nbatch_size={}, epochs={}\".format(batch_size_1, max_epochs_1))\n",
    "axes[0].legend()\n",
    "\n",
    "#axes[1].plot(x_ticks, model1.training_accuracy, color=\"blue\", label=\"model1 training\")\n",
    "#axes[1].plot(x_ticks, model1.val_accuracy, color=\"blue\", label=\"model1 test\",linestyle=\"dashed\")\n",
    "axes[1].plot(x_ticks, model1.training_accuracy, color=\"red\", label=\"model1 training\")\n",
    "axes[1].plot(x_ticks, model1.val_accuracy, color=\"orange\", label=\"model1 validation\", linestyle=\"dashed\")\n",
    "\n",
    "axes[1].set_xlabel(\"epochs\")\n",
    "axes[1].set_xscale(\"log\")\n",
    "axes[1].set_ylabel(\"accuracy\")\n",
    "axes[1].set_title(\n",
    "    \"accuracy(epoch) with dropout,\\nbatch_size={}, epochs={}\".format(batch_size_1, max_epochs_1))\n",
    "axes[1].legend()\n",
    "\n",
    "fig1.tight_layout()\n",
    "plt.show()\n",
    "\n",
    "fig1.savefig(\"higgs_fig1.png\", dpi=500)\n"
   ]
  },
  {
   "cell_type": "code",
   "execution_count": 42,
   "metadata": {
    "scrolled": true
   },
   "outputs": [
    {
     "name": "stdout",
     "output_type": "stream",
     "text": [
      "model1 accuracy on test set: 0.799\n"
     ]
    }
   ],
   "source": [
    "print(\"model1 accuracy on test set: {:.3f}\".format(model1.score(X_test, y_test)))\n",
    "#ams can be conputed only when the full dataset is used\n",
    "#print(\"model1 AMS: {:.4f}\".format(compute_AMS(model1, X_test)))"
   ]
  },
  {
   "cell_type": "markdown",
   "metadata": {},
   "source": [
    "['DER_mass_MMC','DER_mass_transverse_met_lep','DER_mass_vis','DER_pt_h','DER_deltaeta_jet_jet','DER_mass_jet_jet','DER_prodeta_jet_jet','DER_deltar_tau_lep','DER_pt_tot','DER_sum_pt','DER_pt_ratio_lep_tau','DER_met_phi_centrality','DER_lep_eta_centrality','PRI_tau_pt','PRI_tau_eta','PRI_tau_phi','PRI_lep_pt','PRI_lep_eta','PRI_lep_phi','PRI_met','PRI_met_phi','PRI_met_sumet','PRI_jet_num','PRI_jet_leading_pt','PRI_jet_leading_eta','PRI_jet_leading_phi','PRI_jet_subleading_pt','PRI_jet_subleading_eta','PRI_jet_subleading_phi','PRI_jet_all_pt']"
   ]
  },
  {
   "cell_type": "markdown",
   "metadata": {},
   "source": [
    "## Model2 "
   ]
  },
  {
   "cell_type": "code",
   "execution_count": 45,
   "metadata": {
    "scrolled": true
   },
   "outputs": [
    {
     "name": "stdout",
     "output_type": "stream",
     "text": [
      "starting the fit\n",
      "progress:   0.00%\ttrain acc=0.6807\tval acc=0.6680\n",
      "progress:   1.00%\ttrain acc=0.7698\tval acc=0.7590\n",
      "progress:   2.00%\ttrain acc=0.7845\tval acc=0.7850\n",
      "progress:   3.00%\ttrain acc=0.7875\tval acc=0.7880\n",
      "progress:   4.00%\ttrain acc=0.7896\tval acc=0.7970\n",
      "progress:   5.00%\ttrain acc=0.7941\tval acc=0.7870\n",
      "progress:   6.00%\ttrain acc=0.7961\tval acc=0.7850\n",
      "progress:   7.00%\ttrain acc=0.7973\tval acc=0.7810\n",
      "progress:   8.00%\ttrain acc=0.7928\tval acc=0.7860\n",
      "progress:   9.00%\ttrain acc=0.7985\tval acc=0.7820\n",
      "progress:  10.00%\ttrain acc=0.8000\tval acc=0.7810\n",
      "progress:  11.00%\ttrain acc=0.8025\tval acc=0.8090\n",
      "progress:  12.00%\ttrain acc=0.7988\tval acc=0.8000\n",
      "progress:  13.00%\ttrain acc=0.7887\tval acc=0.7810\n",
      "progress:  14.00%\ttrain acc=0.7956\tval acc=0.7890\n",
      "progress:  15.00%\ttrain acc=0.8066\tval acc=0.8030\n",
      "progress:  16.00%\ttrain acc=0.8014\tval acc=0.7970\n",
      "progress:  17.00%\ttrain acc=0.7977\tval acc=0.7960\n",
      "progress:  18.00%\ttrain acc=0.8012\tval acc=0.7970\n",
      "progress:  19.00%\ttrain acc=0.8014\tval acc=0.7940\n",
      "progress:  20.00%\ttrain acc=0.7995\tval acc=0.8050\n",
      "progress:  21.00%\ttrain acc=0.8033\tval acc=0.8040\n",
      "progress:  22.00%\ttrain acc=0.8074\tval acc=0.8010\n",
      "progress:  23.00%\ttrain acc=0.8081\tval acc=0.7990\n",
      "progress:  24.00%\ttrain acc=0.8093\tval acc=0.8050\n",
      "progress:  25.00%\ttrain acc=0.8054\tval acc=0.8050\n",
      "progress:  26.00%\ttrain acc=0.8113\tval acc=0.8010\n",
      "progress:  27.00%\ttrain acc=0.8123\tval acc=0.8040\n",
      "progress:  28.00%\ttrain acc=0.8123\tval acc=0.8090\n",
      "progress:  29.00%\ttrain acc=0.8120\tval acc=0.8120\n",
      "progress:  30.00%\ttrain acc=0.8114\tval acc=0.7980\n",
      "progress:  31.00%\ttrain acc=0.8166\tval acc=0.8060\n",
      "progress:  32.00%\ttrain acc=0.8091\tval acc=0.7980\n",
      "progress:  33.00%\ttrain acc=0.8116\tval acc=0.8090\n",
      "progress:  34.00%\ttrain acc=0.8164\tval acc=0.8090\n",
      "progress:  35.00%\ttrain acc=0.8148\tval acc=0.8070\n",
      "progress:  36.00%\ttrain acc=0.8140\tval acc=0.8000\n",
      "progress:  37.00%\ttrain acc=0.8190\tval acc=0.8120\n",
      "progress:  38.00%\ttrain acc=0.8140\tval acc=0.8040\n",
      "progress:  39.00%\ttrain acc=0.8162\tval acc=0.8120\n",
      "progress:  40.00%\ttrain acc=0.8146\tval acc=0.8030\n",
      "progress:  41.00%\ttrain acc=0.8175\tval acc=0.8110\n",
      "progress:  42.00%\ttrain acc=0.8194\tval acc=0.8100\n",
      "progress:  43.00%\ttrain acc=0.8188\tval acc=0.8080\n",
      "progress:  44.00%\ttrain acc=0.8205\tval acc=0.8080\n",
      "progress:  45.00%\ttrain acc=0.8196\tval acc=0.8100\n",
      "progress:  46.00%\ttrain acc=0.8177\tval acc=0.8050\n",
      "progress:  47.00%\ttrain acc=0.8195\tval acc=0.8130\n",
      "progress:  48.00%\ttrain acc=0.8171\tval acc=0.8170\n",
      "progress:  49.00%\ttrain acc=0.8228\tval acc=0.8110\n",
      "progress:  50.00%\ttrain acc=0.8196\tval acc=0.8110\n",
      "progress:  51.00%\ttrain acc=0.8227\tval acc=0.8110\n",
      "progress:  52.00%\ttrain acc=0.8223\tval acc=0.8090\n",
      "progress:  53.00%\ttrain acc=0.8227\tval acc=0.8130\n",
      "progress:  54.00%\ttrain acc=0.8227\tval acc=0.8210\n",
      "progress:  55.00%\ttrain acc=0.8226\tval acc=0.8110\n",
      "progress:  56.00%\ttrain acc=0.8231\tval acc=0.8200\n",
      "progress:  57.00%\ttrain acc=0.8251\tval acc=0.8090\n",
      "progress:  58.00%\ttrain acc=0.8251\tval acc=0.8150\n",
      "progress:  59.00%\ttrain acc=0.8256\tval acc=0.8160\n",
      "progress:  60.00%\ttrain acc=0.8248\tval acc=0.8230\n",
      "progress:  61.00%\ttrain acc=0.8256\tval acc=0.8140\n",
      "progress:  62.00%\ttrain acc=0.8247\tval acc=0.8150\n",
      "progress:  63.00%\ttrain acc=0.8271\tval acc=0.8180\n",
      "progress:  64.00%\ttrain acc=0.8261\tval acc=0.8090\n",
      "progress:  65.00%\ttrain acc=0.8279\tval acc=0.8060\n",
      "progress:  66.00%\ttrain acc=0.8263\tval acc=0.8070\n",
      "progress:  67.00%\ttrain acc=0.8265\tval acc=0.8180\n",
      "progress:  68.00%\ttrain acc=0.8263\tval acc=0.8060\n",
      "progress:  69.00%\ttrain acc=0.8289\tval acc=0.8170\n",
      "progress:  70.00%\ttrain acc=0.8284\tval acc=0.8140\n",
      "progress:  71.00%\ttrain acc=0.8275\tval acc=0.8160\n",
      "progress:  72.00%\ttrain acc=0.8283\tval acc=0.8170\n",
      "progress:  73.00%\ttrain acc=0.8299\tval acc=0.8140\n",
      "progress:  74.00%\ttrain acc=0.8267\tval acc=0.8150\n",
      "progress:  75.00%\ttrain acc=0.8281\tval acc=0.8170\n",
      "progress:  76.00%\ttrain acc=0.8289\tval acc=0.8160\n",
      "progress:  77.00%\ttrain acc=0.8314\tval acc=0.8030\n",
      "progress:  78.00%\ttrain acc=0.8266\tval acc=0.8180\n",
      "progress:  79.00%\ttrain acc=0.8279\tval acc=0.8150\n",
      "progress:  80.00%\ttrain acc=0.8316\tval acc=0.8140\n",
      "progress:  81.00%\ttrain acc=0.8303\tval acc=0.8150\n",
      "progress:  82.00%\ttrain acc=0.8304\tval acc=0.8170\n",
      "progress:  83.00%\ttrain acc=0.8315\tval acc=0.8200\n",
      "progress:  84.00%\ttrain acc=0.8304\tval acc=0.8190\n",
      "progress:  85.00%\ttrain acc=0.8321\tval acc=0.8140\n",
      "progress:  86.00%\ttrain acc=0.8315\tval acc=0.8200\n",
      "progress:  87.00%\ttrain acc=0.8332\tval acc=0.8150\n",
      "progress:  88.00%\ttrain acc=0.8311\tval acc=0.8130\n",
      "progress:  89.00%\ttrain acc=0.8323\tval acc=0.8100\n",
      "progress:  90.00%\ttrain acc=0.8331\tval acc=0.8160\n",
      "progress:  91.00%\ttrain acc=0.8315\tval acc=0.8140\n",
      "progress:  92.00%\ttrain acc=0.8336\tval acc=0.8180\n",
      "progress:  93.00%\ttrain acc=0.8321\tval acc=0.8180\n",
      "progress:  94.00%\ttrain acc=0.8357\tval acc=0.8170\n",
      "progress:  95.00%\ttrain acc=0.8340\tval acc=0.8210\n",
      "progress:  96.00%\ttrain acc=0.8339\tval acc=0.8110\n",
      "progress:  97.00%\ttrain acc=0.8339\tval acc=0.8140\n",
      "progress:  98.00%\ttrain acc=0.8352\tval acc=0.8180\n",
      "progress:  99.00%\ttrain acc=0.8331\tval acc=0.8170\n",
      "fit routine completed, execution time: 124.86s\n"
     ]
    },
    {
     "data": {
      "text/plain": [
       "<Aurelio_Amerio_MLPClassifier_lib_v6_2.MLPClassifier at 0x130b55b1160>"
      ]
     },
     "execution_count": 45,
     "metadata": {},
     "output_type": "execute_result"
    }
   ],
   "source": [
    "learning_rate_2 = 0.001\n",
    "keep_probs_2 = (0.5,)\n",
    "batch_size_2 = 128\n",
    "max_epochs_2 = 1000\n",
    "beta_w_2 = 0\n",
    "beta_b_2 = 0\n",
    "decay_rate_2 = None #0.96\n",
    "display_step_2 = 10\n",
    "n_features_2 = n_features\n",
    "# %% create model with 1 hidden layers\n",
    "model2 = MLPClassifier(n_layers=1, n_nodes=(1024,), learning_rate=learning_rate_2, random_seed=None,\n",
    "                          n_features=n_features_2, n_classes=2)\n",
    "model2.fit(X_train=X_train, y_train=y_train, max_epochs=max_epochs_2,\n",
    "           display_step=display_step_2, batch_size=batch_size_2, keep_probs=keep_probs_2, validation_split=0.1,\n",
    "           beta_w=beta_w_2, beta_b=beta_b_2, decay_rate=decay_rate_2, verbose=True)\n"
   ]
  },
  {
   "cell_type": "code",
   "execution_count": 46,
   "metadata": {
    "scrolled": true
   },
   "outputs": [
    {
     "name": "stdout",
     "output_type": "stream",
     "text": [
      "model2 accuracy on train set: 0.831\n",
      "model2 accuracy on validation set: 0.815\n"
     ]
    }
   ],
   "source": [
    "print(\"model2 accuracy on train set: {:.3f}\".format(model2.score(X_train, y_train)))\n",
    "print(\"model2 accuracy on validation set: {:.3f}\".format(model2.score(model2.X_val, model2.y_val)))\n"
   ]
  },
  {
   "cell_type": "code",
   "execution_count": 47,
   "metadata": {
    "scrolled": false
   },
   "outputs": [
    {
     "data": {
      "image/png": "[encoded data removed]",
      "text/plain": [
       "<Figure size 432x432 with 2 Axes>"
      ]
     },
     "metadata": {},
     "output_type": "display_data"
    }
   ],
   "source": [
    "# %% plot results\n",
    "fig2, axes = plt.subplots(2, 1, figsize=(6, 6))\n",
    "\n",
    "x_ticks = np.arange(0, max_epochs_2, display_step_2)\n",
    "\n",
    "#axes[0].plot(x_ticks, model1.training_costs, color=\"blue\", label=\"model1 training\")\n",
    "#axes[0].plot(x_ticks, model1.val_costs, color=\"blue\", label=\"model1 test\",linestyle=\"dashed\")\n",
    "axes[0].plot(x_ticks, model2.training_costs, color=\"red\", label=\"model2 training\")\n",
    "axes[0].plot(x_ticks, model2.val_costs, color=\"orange\", label=\"model2 validation\", linestyle=\"dashed\")\n",
    "\n",
    "axes[0].set_xlabel(\"epochs\")\n",
    "axes[0].set_xscale(\"log\")\n",
    "axes[0].set_ylabel(\"cost\")\n",
    "axes[0].set_yscale(\"log\")\n",
    "#axes[0].set_ylim(0,10000)\n",
    "axes[0].set_title(\n",
    "    \"cost(epoch) with dropout,\\nbatch_size={}, epochs={}\".format(batch_size_2, max_epochs_2))\n",
    "axes[0].legend()\n",
    "\n",
    "#axes[1].plot(x_ticks, model1.training_accuracy, color=\"blue\", label=\"model1 training\")\n",
    "#axes[1].plot(x_ticks, model1.val_accuracy, color=\"blue\", label=\"model1 test\",linestyle=\"dashed\")\n",
    "axes[1].plot(x_ticks, model2.training_accuracy, color=\"red\", label=\"model2 training\")\n",
    "axes[1].plot(x_ticks, model2.val_accuracy, color=\"orange\", label=\"model2 validation\", linestyle=\"dashed\")\n",
    "\n",
    "axes[1].set_xlabel(\"epochs\")\n",
    "axes[1].set_xscale(\"log\")\n",
    "axes[1].set_ylabel(\"accuracy\")\n",
    "axes[1].set_title(\n",
    "    \"accuracy(epoch) with dropout,\\nbatch_size={}, epochs={}\".format(batch_size_2, max_epochs_2))\n",
    "axes[1].legend()\n",
    "\n",
    "fig2.tight_layout()\n",
    "plt.show()\n",
    "\n",
    "fig2.savefig(\"higgs_fig2.png\", dpi=500)\n"
   ]
  },
  {
   "cell_type": "code",
   "execution_count": 48,
   "metadata": {
    "scrolled": true
   },
   "outputs": [
    {
     "name": "stdout",
     "output_type": "stream",
     "text": [
      "model2 accuracy on test set: 0.790\n"
     ]
    }
   ],
   "source": [
    "print(\"model2 accuracy on test set: {:.3f}\".format(model2.score(X_test, y_test)))\n",
    "#ams only available for all the data\n",
    "#print(\"model2 AMS: {:.4f}\".format(compute_AMS(model2, X_test)))"
   ]
  },
  {
   "cell_type": "markdown",
   "metadata": {},
   "source": [
    "# model3 with 1 layer but with full data and all the features"
   ]
  },
  {
   "cell_type": "code",
   "execution_count": 58,
   "metadata": {},
   "outputs": [
    {
     "name": "stdout",
     "output_type": "stream",
     "text": [
      "starting the fit\n",
      "progress:   0.00%\ttrain acc=0.8055\tval acc=0.8044\n",
      "progress:   5.00%\ttrain acc=0.8209\tval acc=0.8201\n",
      "progress:  10.00%\ttrain acc=0.8293\tval acc=0.8262\n",
      "progress:  15.00%\ttrain acc=0.8346\tval acc=0.8308\n",
      "progress:  20.00%\ttrain acc=0.8375\tval acc=0.8334\n",
      "progress:  25.00%\ttrain acc=0.8362\tval acc=0.8294\n",
      "progress:  30.00%\ttrain acc=0.8392\tval acc=0.8345\n",
      "progress:  35.00%\ttrain acc=0.8400\tval acc=0.8340\n",
      "progress:  40.00%\ttrain acc=0.8407\tval acc=0.8337\n",
      "progress:  45.00%\ttrain acc=0.8410\tval acc=0.8339\n",
      "progress:  50.00%\ttrain acc=0.8419\tval acc=0.8348\n",
      "progress:  55.00%\ttrain acc=0.8418\tval acc=0.8334\n",
      "progress:  60.00%\ttrain acc=0.8418\tval acc=0.8343\n",
      "progress:  65.00%\ttrain acc=0.8417\tval acc=0.8323\n",
      "progress:  70.00%\ttrain acc=0.8434\tval acc=0.8336\n",
      "progress:  75.00%\ttrain acc=0.8436\tval acc=0.8348\n",
      "progress:  80.00%\ttrain acc=0.8434\tval acc=0.8310\n",
      "progress:  85.00%\ttrain acc=0.8433\tval acc=0.8338\n",
      "progress:  90.00%\ttrain acc=0.8436\tval acc=0.8330\n",
      "progress:  95.00%\ttrain acc=0.8431\tval acc=0.8328\n",
      "fit routine completed, execution time: 614.83s\n"
     ]
    },
    {
     "data": {
      "text/plain": [
       "<Aurelio_Amerio_MLPClassifier_lib_v6_2.MLPClassifier at 0x130b3efc0f0>"
      ]
     },
     "execution_count": 58,
     "metadata": {},
     "output_type": "execute_result"
    }
   ],
   "source": [
    "learning_rate_3 = 0.001\n",
    "# we need a big dropout in order to contrast the tendency to overfit of a model with a high number of nodes'\n",
    "keep_probs_3 = (0.5,) \n",
    "batch_size_3 = 128\n",
    "max_epochs_3 = 200\n",
    "beta_w_3 = 0\n",
    "beta_b_3 = 0\n",
    "decay_rate_3 = None #0.96\n",
    "display_step_3 = 10\n",
    "n_features_3 = n_features\n",
    "# %% create model with 1 hidden layers\n",
    "model3 = MLPClassifier(n_layers=1, n_nodes=(1024,), learning_rate=learning_rate_3, random_seed=None,\n",
    "                          n_features=n_features_3, n_classes=2)\n",
    "model3.fit(X_train=X_train, y_train=y_train, max_epochs=max_epochs_3,\n",
    "           display_step=display_step_3, batch_size=batch_size_3, keep_probs=keep_probs_3, validation_split=0.1,\n",
    "           beta_w=beta_w_3, beta_b=beta_b_3, decay_rate=decay_rate_3, verbose=True)"
   ]
  },
  {
   "cell_type": "code",
   "execution_count": 59,
   "metadata": {},
   "outputs": [
    {
     "name": "stdout",
     "output_type": "stream",
     "text": [
      "model3 accuracy on train set: 0.843\n",
      "model3 accuracy on validation set: 0.835\n"
     ]
    }
   ],
   "source": [
    "print(\"model3 accuracy on train set: {:.3f}\".format(model3.score(X_train, y_train)))\n",
    "print(\"model3 accuracy on validation set: {:.3f}\".format(model3.score(model3.X_val, model3.y_val)))"
   ]
  },
  {
   "cell_type": "code",
   "execution_count": 66,
   "metadata": {},
   "outputs": [
    {
     "data": {
      "image/png": "[encoded data removed]",
      "text/plain": [
       "<Figure size 432x432 with 2 Axes>"
      ]
     },
     "metadata": {},
     "output_type": "display_data"
    }
   ],
   "source": [
    "# %% plot results\n",
    "fig3, axes = plt.subplots(2, 1, figsize=(6, 6))\n",
    "\n",
    "x_ticks = np.arange(0, max_epochs_3, display_step_3)\n",
    "\n",
    "#axes[0].plot(x_ticks, model1.training_costs, color=\"blue\", label=\"model1 training\")\n",
    "#axes[0].plot(x_ticks, model1.val_costs, color=\"blue\", label=\"model1 test\",linestyle=\"dashed\")\n",
    "axes[0].plot(x_ticks, model3.training_costs, color=\"red\", label=\"model3 training\")\n",
    "axes[0].plot(x_ticks, model3.val_costs, color=\"orange\", label=\"model3 validation\", linestyle=\"dashed\")\n",
    "\n",
    "axes[0].set_xlabel(\"epochs\")\n",
    "axes[0].set_xscale(\"log\")\n",
    "axes[0].set_ylabel(\"cost\")\n",
    "axes[0].set_yscale(\"linear\")\n",
    "axes[0].set_ylim(0.3,0.5)\n",
    "axes[0].set_title(\n",
    "    \"cost(epoch),\\nbatch_size={}, epochs={}\".format(batch_size_3, max_epochs_3))\n",
    "axes[0].legend()\n",
    "\n",
    "#axes[1].plot(x_ticks, model1.training_accuracy, color=\"blue\", label=\"model1 training\")\n",
    "#axes[1].plot(x_ticks, model1.val_accuracy, color=\"blue\", label=\"model1 test\",linestyle=\"dashed\")\n",
    "axes[1].plot(x_ticks, model3.training_accuracy, color=\"red\", label=\"model3 training\")\n",
    "axes[1].plot(x_ticks, model3.val_accuracy, color=\"orange\", label=\"model3 validation\", linestyle=\"dashed\")\n",
    "\n",
    "axes[1].set_xlabel(\"epochs\")\n",
    "axes[1].set_xscale(\"log\")\n",
    "axes[1].set_ylabel(\"accuracy\")\n",
    "axes[1].set_title(\n",
    "    \"accuracy(epoch),\\nbatch_size={}, epochs={}\".format(batch_size_3, max_epochs_3))\n",
    "axes[1].legend()\n",
    "\n",
    "fig3.tight_layout()\n",
    "plt.show()\n",
    "\n",
    "fig3.savefig(\"higgs_fig3.png\", dpi=500)\n",
    "\n",
    "\n"
   ]
  },
  {
   "cell_type": "code",
   "execution_count": 61,
   "metadata": {},
   "outputs": [
    {
     "name": "stdout",
     "output_type": "stream",
     "text": [
      "model3 accuracy on test set: 0.834\n",
      "model3 AMS: 0.9823\n"
     ]
    }
   ],
   "source": [
    "print(\"model3 accuracy on test set: {:.3f}\".format(model3.score(X_test, y_test)))\n",
    "#ams only available for all the data\n",
    "print(\"model3 AMS: {:.4f}\".format(compute_AMS(model3, X_test)))"
   ]
  },
  {
   "cell_type": "markdown",
   "metadata": {},
   "source": [
    "# model 4 with 3 hidden layers"
   ]
  },
  {
   "cell_type": "code",
   "execution_count": 67,
   "metadata": {},
   "outputs": [
    {
     "name": "stdout",
     "output_type": "stream",
     "text": [
      "starting the fit\n",
      "progress:   0.00%\ttrain acc=0.7612\tval acc=0.7602\n",
      "progress:   5.00%\ttrain acc=0.6569\tval acc=0.6609\n",
      "progress:  10.00%\ttrain acc=0.6569\tval acc=0.6609\n",
      "progress:  15.00%\ttrain acc=0.8303\tval acc=0.8306\n",
      "progress:  20.00%\ttrain acc=0.8254\tval acc=0.8233\n",
      "progress:  25.00%\ttrain acc=0.8329\tval acc=0.8297\n",
      "progress:  30.00%\ttrain acc=0.8336\tval acc=0.8323\n",
      "progress:  35.00%\ttrain acc=0.8338\tval acc=0.8326\n",
      "progress:  40.00%\ttrain acc=0.8365\tval acc=0.8334\n",
      "progress:  45.00%\ttrain acc=0.8378\tval acc=0.8353\n",
      "progress:  50.00%\ttrain acc=0.8382\tval acc=0.8360\n",
      "progress:  55.00%\ttrain acc=0.8328\tval acc=0.8320\n",
      "progress:  60.00%\ttrain acc=0.8356\tval acc=0.8351\n",
      "progress:  65.00%\ttrain acc=0.8369\tval acc=0.8364\n",
      "progress:  70.00%\ttrain acc=0.8371\tval acc=0.8366\n",
      "progress:  75.00%\ttrain acc=0.8373\tval acc=0.8360\n",
      "progress:  80.00%\ttrain acc=0.8363\tval acc=0.8372\n",
      "progress:  85.00%\ttrain acc=0.8374\tval acc=0.8360\n",
      "progress:  90.00%\ttrain acc=0.8368\tval acc=0.8353\n",
      "progress:  95.00%\ttrain acc=0.8379\tval acc=0.8378\n",
      "fit routine completed, execution time: 997.93s\n"
     ]
    },
    {
     "data": {
      "text/plain": [
       "<Aurelio_Amerio_MLPClassifier_lib_v6_2.MLPClassifier at 0x130b10e4b00>"
      ]
     },
     "execution_count": 67,
     "metadata": {},
     "output_type": "execute_result"
    }
   ],
   "source": [
    "learning_rate_4 = 0.001\n",
    "# we need a big dropout in order to contrast the tendency to overfit of a model with a high number of nodes\n",
    "keep_probs_4 = (0.8, 0.5, 0.5, 0.5) \n",
    "batch_size_4 = 128\n",
    "max_epochs_4 = 200\n",
    "beta_w_4 = 0.0001\n",
    "beta_b_4 = 0.0001\n",
    "decay_rate_4 = None #0.96\n",
    "display_step_4 = 10\n",
    "n_features_4 = n_features\n",
    "# %% create model with 3 hidden layers\n",
    "model4 = MLPClassifier(n_layers=4, n_nodes=(600,600,600,600), learning_rate=learning_rate_4, random_seed=None,\n",
    "                          n_features=n_features_4, n_classes=2)\n",
    "model4.fit(X_train=X_train, y_train=y_train, max_epochs=max_epochs_4,\n",
    "           display_step=display_step_4, batch_size=batch_size_4, keep_probs=keep_probs_4, validation_split=0.1,\n",
    "           beta_w=beta_w_4, beta_b=beta_b_4, decay_rate=decay_rate_4, verbose=True)"
   ]
  },
  {
   "cell_type": "code",
   "execution_count": 68,
   "metadata": {},
   "outputs": [
    {
     "name": "stdout",
     "output_type": "stream",
     "text": [
      "model4 accuracy on train set: 0.837\n",
      "model4 accuracy on validation set: 0.838\n"
     ]
    }
   ],
   "source": [
    "print(\"model4 accuracy on train set: {:.3f}\".format(model4.score(X_train, y_train)))\n",
    "print(\"model4 accuracy on validation set: {:.3f}\".format(model4.score(model4.X_val, model4.y_val)))"
   ]
  },
  {
   "cell_type": "code",
   "execution_count": 69,
   "metadata": {},
   "outputs": [
    {
     "data": {
      "image/png": "[encoded data removed]",
      "text/plain": [
       "<Figure size 432x432 with 2 Axes>"
      ]
     },
     "metadata": {},
     "output_type": "display_data"
    }
   ],
   "source": [
    "# %% plot results\n",
    "fig4, axes = plt.subplots(2, 1, figsize=(6, 6))\n",
    "\n",
    "x_ticks = np.arange(0, max_epochs_4, display_step_4)\n",
    "\n",
    "\n",
    "axes[0].plot(x_ticks, model4.training_costs, color=\"red\", label=\"model4 training\")\n",
    "axes[0].plot(x_ticks, model4.val_costs, color=\"orange\", label=\"model4 validation\", linestyle=\"dashed\")\n",
    "\n",
    "axes[0].set_xlabel(\"epochs\")\n",
    "axes[0].set_xscale(\"linear\")\n",
    "axes[0].set_ylabel(\"cost\")\n",
    "axes[0].set_yscale(\"log\")\n",
    "#axes[0].set_ylim(0,10000)\n",
    "axes[0].set_title(\n",
    "    \"cost(epoch),\\nbatch_size={}, epochs={}\".format(batch_size_4, max_epochs_4))\n",
    "axes[0].legend()\n",
    "\n",
    "\n",
    "axes[1].plot(x_ticks, model4.training_accuracy, color=\"red\", label=\"model4 training\")\n",
    "axes[1].plot(x_ticks, model4.val_accuracy, color=\"orange\", label=\"model4 validation\", linestyle=\"dashed\")\n",
    "\n",
    "axes[1].set_xlabel(\"epochs\")\n",
    "axes[1].set_xscale(\"log\")\n",
    "axes[1].set_ylabel(\"accuracy\")\n",
    "axes[1].set_title(\n",
    "    \"accuracy(epoch),\\nbatch_size={}, epochs={}\".format(batch_size_4, max_epochs_4))\n",
    "axes[1].legend()\n",
    "\n",
    "fig4.tight_layout()\n",
    "plt.show()\n",
    "\n",
    "fig4.savefig(\"higgs_fig4.png\", dpi=500)\n",
    "\n",
    "\n"
   ]
  },
  {
   "cell_type": "code",
   "execution_count": 70,
   "metadata": {},
   "outputs": [
    {
     "name": "stdout",
     "output_type": "stream",
     "text": [
      "model4 accuracy on test set: 0.834\n",
      "model4 AMS: 0.9615\n"
     ]
    }
   ],
   "source": [
    "print(\"model4 accuracy on test set: {:.3f}\".format(model4.score(X_test, y_test)))\n",
    "#ams only available for all the data\n",
    "print(\"model4 AMS: {:.4f}\".format(compute_AMS(model4, X_test)))"
   ]
  },
  {
   "cell_type": "code",
   "execution_count": null,
   "metadata": {},
   "outputs": [],
   "source": []
  },
  {
   "cell_type": "markdown",
   "metadata": {},
   "source": [
    "# model 6 with 1 layer, exponential decay (model5 on the report)"
   ]
  },
  {
   "cell_type": "code",
   "execution_count": 107,
   "metadata": {
    "scrolled": true
   },
   "outputs": [
    {
     "name": "stdout",
     "output_type": "stream",
     "text": [
      "starting the fit\n",
      "progress:   0.00%\ttrain acc=0.3427\n",
      "progress:   3.33%\ttrain acc=0.8161\n",
      "progress:   6.67%\ttrain acc=0.8257\n",
      "progress:  10.00%\ttrain acc=0.8229\n",
      "progress:  13.33%\ttrain acc=0.8254\n",
      "progress:  16.67%\ttrain acc=0.8273\n",
      "progress:  20.00%\ttrain acc=0.8255\n",
      "progress:  23.33%\ttrain acc=0.8186\n",
      "progress:  26.67%\ttrain acc=0.8236\n",
      "progress:  30.00%\ttrain acc=0.8263\n",
      "progress:  33.33%\ttrain acc=0.8272\n",
      "progress:  36.67%\ttrain acc=0.8278\n",
      "progress:  40.00%\ttrain acc=0.8291\n",
      "progress:  43.33%\ttrain acc=0.8292\n",
      "progress:  46.67%\ttrain acc=0.8301\n",
      "progress:  50.00%\ttrain acc=0.8285\n",
      "progress:  53.33%\ttrain acc=0.8327\n",
      "progress:  56.67%\ttrain acc=0.8312\n",
      "progress:  60.00%\ttrain acc=0.8301\n",
      "progress:  63.33%\ttrain acc=0.8282\n",
      "progress:  66.67%\ttrain acc=0.8328\n",
      "progress:  70.00%\ttrain acc=0.8321\n",
      "progress:  73.33%\ttrain acc=0.8330\n",
      "progress:  76.67%\ttrain acc=0.8328\n",
      "progress:  80.00%\ttrain acc=0.8352\n",
      "progress:  83.33%\ttrain acc=0.8349\n",
      "progress:  86.67%\ttrain acc=0.8353\n",
      "progress:  90.00%\ttrain acc=0.8352\n",
      "progress:  93.33%\ttrain acc=0.8349\n",
      "progress:  96.67%\ttrain acc=0.8349\n",
      "fit routine completed, execution time: 1080.49s\n"
     ]
    },
    {
     "data": {
      "text/plain": [
       "<Aurelio_Amerio_MLPClassifier_lib_v6_2.MLPClassifier at 0x130be70f4a8>"
      ]
     },
     "execution_count": 107,
     "metadata": {},
     "output_type": "execute_result"
    }
   ],
   "source": [
    "learning_rate_6 = 0.01\n",
    "# we need a big dropout in order to contrast the tendency to overfit of a model with a high number of nodes'\n",
    "keep_probs_6 = (0.8,) \n",
    "batch_size_6 = 128\n",
    "max_epochs_6 = 300\n",
    "beta_w_6 = 0.00005\n",
    "beta_b_6 = 0.00005\n",
    "decay_rate_6 = 0.96\n",
    "decay_steps_6 = 10000 # I want the learning rate to be around 0.001 around the 30% of the optimization process\n",
    "display_step_6 = 10\n",
    "n_features_6 = n_features\n",
    "# %% create model with 3 hidden layers\n",
    "model6 = MLPClassifier(n_layers=1, n_nodes=(1024,), learning_rate=learning_rate_6, random_seed=None,\n",
    "                          n_features=n_features_6, n_classes=2)\n",
    "model6.fit(X_train=X_train, y_train=y_train, max_epochs=max_epochs_6,\n",
    "           display_step=display_step_6, batch_size=batch_size_6, keep_probs=keep_probs_6, validation_split=None,\n",
    "           beta_w=beta_w_6, beta_b=beta_b_6, decay_rate=decay_rate_6, decay_steps=decay_steps_6, verbose=True)"
   ]
  },
  {
   "cell_type": "code",
   "execution_count": 108,
   "metadata": {},
   "outputs": [
    {
     "name": "stdout",
     "output_type": "stream",
     "text": [
      "model6 accuracy on train set: 0.836\n"
     ]
    }
   ],
   "source": [
    "print(\"model6 accuracy on train set: {:.3f}\".format(model6.score(X_train, y_train)))\n",
    "#print(\"model6 accuracy on validation set: {:.3f}\".format(model6.score(model6.X_val, model6.y_val)))"
   ]
  },
  {
   "cell_type": "code",
   "execution_count": 112,
   "metadata": {},
   "outputs": [
    {
     "data": {
      "image/png": "[encoded data removed]",
      "text/plain": [
       "<Figure size 432x432 with 2 Axes>"
      ]
     },
     "metadata": {},
     "output_type": "display_data"
    }
   ],
   "source": [
    "# %% plot results\n",
    "fig6, axes = plt.subplots(2, 1, figsize=(6, 6))\n",
    "\n",
    "x_ticks = np.arange(0, max_epochs_6, display_step_6)\n",
    "\n",
    "\n",
    "axes[0].plot(x_ticks, model6.training_costs, color=\"red\", label=\"model5 training\")\n",
    "#axes[0].plot(x_ticks, model6.val_costs, color=\"orange\", label=\"model6 validation\", linestyle=\"dashed\")\n",
    "\n",
    "axes[0].set_xlabel(\"epochs\")\n",
    "axes[0].set_xscale(\"linear\")\n",
    "axes[0].set_ylabel(\"cost\")\n",
    "axes[0].set_yscale(\"log\")\n",
    "#axes[0].set_ylim(0,10000)\n",
    "axes[0].set_title(\n",
    "    \"cost(epoch),\\nbatch_size={}, epochs={}\".format(batch_size_6, max_epochs_6))\n",
    "axes[0].legend()\n",
    "\n",
    "\n",
    "axes[1].plot(x_ticks, model6.training_accuracy, color=\"red\", label=\"model5 training\")\n",
    "#axes[1].plot(x_ticks, model6.val_accuracy, color=\"orange\", label=\"model6 validation\", linestyle=\"dashed\")\n",
    "\n",
    "axes[1].set_xlabel(\"epochs\")\n",
    "axes[1].set_xscale(\"log\")\n",
    "axes[1].set_ylabel(\"accuracy\")\n",
    "axes[1].set_title(\n",
    "    \"accuracy(epoch),\\nbatch_size={}, epochs={}\".format(batch_size_6, max_epochs_6))\n",
    "axes[1].legend()\n",
    "\n",
    "fig6.tight_layout()\n",
    "plt.show()\n",
    "\n",
    "fig6.savefig(\"higgs_fig6_model5.png\", dpi=500)\n",
    "\n",
    "\n"
   ]
  },
  {
   "cell_type": "code",
   "execution_count": 113,
   "metadata": {},
   "outputs": [
    {
     "name": "stdout",
     "output_type": "stream",
     "text": [
      "model6 accuracy on test set: 0.833\n",
      "model6 AMS: 0.9494\n"
     ]
    }
   ],
   "source": [
    "print(\"model6 accuracy on test set: {:.3f}\".format(model6.score(X_test, y_test)))\n",
    "#ams only available for all the data\n",
    "print(\"model6 AMS: {:.4f}\".format(compute_AMS(model6, X_test)))"
   ]
  },
  {
   "cell_type": "markdown",
   "metadata": {},
   "source": [
    "# preproc pca"
   ]
  },
  {
   "cell_type": "code",
   "execution_count": 126,
   "metadata": {
    "scrolled": true
   },
   "outputs": [],
   "source": [
    "from sklearn.decomposition import PCA\n",
    "# keep the first two principal components of the data\n",
    "scaler_pca= StandardScaler()\n",
    "scaler_pca.fit(X_train_to_scale)\n",
    "\n",
    "X_train_scaled_pca=scaler_pca.transform(X_train_to_scale)\n",
    "X_test_scaled_pca=scaler_pca.transform(X_test_to_scale)\n",
    "\n",
    "n_components_pca = 22\n",
    "pca = PCA(n_components=n_components_pca)\n",
    "# fit PCA model to breast cancer data\n",
    "pca.fit(X_train_scaled_pca)\n",
    "X_train_pca = pca.transform(X_train_scaled_pca)\n",
    "X_test_pca = pca.transform(X_test_scaled_pca)"
   ]
  },
  {
   "cell_type": "code",
   "execution_count": 127,
   "metadata": {},
   "outputs": [
    {
     "data": {
      "text/plain": [
       "array([0.4089089 , 0.0789593 , 0.07724658, 0.06598867, 0.05550759,\n",
       "       0.05182669, 0.04023842, 0.03749635, 0.03355136, 0.03014907,\n",
       "       0.0261786 , 0.02176865, 0.01597503, 0.0147592 , 0.01318736,\n",
       "       0.00972928, 0.00507046, 0.00394501, 0.00316595, 0.00299752,\n",
       "       0.00213189, 0.00118848])"
      ]
     },
     "execution_count": 127,
     "metadata": {},
     "output_type": "execute_result"
    }
   ],
   "source": [
    "pca.explained_variance_ratio_"
   ]
  },
  {
   "cell_type": "markdown",
   "metadata": {},
   "source": [
    "# model 8 with 3 hidden layers, leaky relu (model6 in the report)"
   ]
  },
  {
   "cell_type": "code",
   "execution_count": 133,
   "metadata": {},
   "outputs": [
    {
     "name": "stdout",
     "output_type": "stream",
     "text": [
      "starting the fit\n",
      "progress:   0.00%\ttrain acc=0.7660\tval acc=0.7643\n",
      "progress:   1.00%\ttrain acc=0.7056\tval acc=0.7041\n",
      "progress:   2.00%\ttrain acc=0.8302\tval acc=0.8290\n",
      "progress:   3.00%\ttrain acc=0.8309\tval acc=0.8308\n",
      "progress:   4.00%\ttrain acc=0.8327\tval acc=0.8325\n",
      "progress:   5.00%\ttrain acc=0.8318\tval acc=0.8315\n",
      "progress:   6.00%\ttrain acc=0.8342\tval acc=0.8355\n",
      "progress:   7.00%\ttrain acc=0.8347\tval acc=0.8340\n",
      "progress:   8.00%\ttrain acc=0.8336\tval acc=0.8313\n",
      "progress:   9.00%\ttrain acc=0.8346\tval acc=0.8348\n",
      "progress:  10.00%\ttrain acc=0.8364\tval acc=0.8348\n",
      "progress:  11.00%\ttrain acc=0.8359\tval acc=0.8349\n",
      "progress:  12.00%\ttrain acc=0.8373\tval acc=0.8360\n",
      "progress:  13.00%\ttrain acc=0.8376\tval acc=0.8354\n",
      "progress:  14.00%\ttrain acc=0.8376\tval acc=0.8371\n",
      "progress:  15.00%\ttrain acc=0.8370\tval acc=0.8368\n",
      "progress:  16.00%\ttrain acc=0.8374\tval acc=0.8357\n",
      "progress:  17.00%\ttrain acc=0.8385\tval acc=0.8355\n",
      "progress:  18.00%\ttrain acc=0.8390\tval acc=0.8380\n",
      "progress:  19.00%\ttrain acc=0.8393\tval acc=0.8371\n",
      "progress:  20.00%\ttrain acc=0.8394\tval acc=0.8374\n",
      "progress:  21.00%\ttrain acc=0.8394\tval acc=0.8376\n",
      "progress:  22.00%\ttrain acc=0.8399\tval acc=0.8374\n",
      "progress:  23.00%\ttrain acc=0.8401\tval acc=0.8385\n",
      "progress:  24.00%\ttrain acc=0.8406\tval acc=0.8376\n",
      "progress:  25.00%\ttrain acc=0.8403\tval acc=0.8383\n",
      "progress:  26.00%\ttrain acc=0.8407\tval acc=0.8373\n",
      "progress:  27.00%\ttrain acc=0.8405\tval acc=0.8382\n",
      "progress:  28.00%\ttrain acc=0.8407\tval acc=0.8389\n",
      "progress:  29.00%\ttrain acc=0.8409\tval acc=0.8380\n",
      "progress:  30.00%\ttrain acc=0.8412\tval acc=0.8387\n",
      "progress:  31.00%\ttrain acc=0.8414\tval acc=0.8385\n",
      "progress:  32.00%\ttrain acc=0.8416\tval acc=0.8384\n",
      "progress:  33.00%\ttrain acc=0.8414\tval acc=0.8386\n",
      "progress:  34.00%\ttrain acc=0.8413\tval acc=0.8389\n",
      "progress:  35.00%\ttrain acc=0.8417\tval acc=0.8388\n",
      "progress:  36.00%\ttrain acc=0.8416\tval acc=0.8385\n",
      "progress:  37.00%\ttrain acc=0.8417\tval acc=0.8392\n",
      "progress:  38.00%\ttrain acc=0.8417\tval acc=0.8388\n",
      "progress:  39.00%\ttrain acc=0.8420\tval acc=0.8392\n",
      "progress:  40.00%\ttrain acc=0.8422\tval acc=0.8386\n",
      "progress:  41.00%\ttrain acc=0.8420\tval acc=0.8389\n",
      "progress:  42.00%\ttrain acc=0.8422\tval acc=0.8385\n",
      "progress:  43.00%\ttrain acc=0.8422\tval acc=0.8388\n",
      "progress:  44.00%\ttrain acc=0.8423\tval acc=0.8383\n",
      "progress:  45.00%\ttrain acc=0.8423\tval acc=0.8383\n",
      "progress:  46.00%\ttrain acc=0.8422\tval acc=0.8386\n",
      "progress:  47.00%\ttrain acc=0.8423\tval acc=0.8389\n",
      "progress:  48.00%\ttrain acc=0.8424\tval acc=0.8384\n",
      "progress:  49.00%\ttrain acc=0.8423\tval acc=0.8382\n",
      "progress:  50.00%\ttrain acc=0.8423\tval acc=0.8386\n",
      "progress:  51.00%\ttrain acc=0.8426\tval acc=0.8385\n",
      "progress:  52.00%\ttrain acc=0.8425\tval acc=0.8384\n",
      "progress:  53.00%\ttrain acc=0.8423\tval acc=0.8382\n",
      "progress:  54.00%\ttrain acc=0.8425\tval acc=0.8384\n",
      "progress:  55.00%\ttrain acc=0.8425\tval acc=0.8384\n",
      "progress:  56.00%\ttrain acc=0.8424\tval acc=0.8382\n",
      "progress:  57.00%\ttrain acc=0.8425\tval acc=0.8383\n",
      "progress:  58.00%\ttrain acc=0.8425\tval acc=0.8381\n",
      "progress:  59.00%\ttrain acc=0.8425\tval acc=0.8382\n",
      "progress:  60.00%\ttrain acc=0.8427\tval acc=0.8384\n",
      "progress:  61.00%\ttrain acc=0.8426\tval acc=0.8381\n",
      "progress:  62.00%\ttrain acc=0.8426\tval acc=0.8380\n",
      "progress:  63.00%\ttrain acc=0.8426\tval acc=0.8386\n",
      "progress:  64.00%\ttrain acc=0.8427\tval acc=0.8382\n",
      "progress:  65.00%\ttrain acc=0.8427\tval acc=0.8381\n",
      "progress:  66.00%\ttrain acc=0.8426\tval acc=0.8383\n",
      "progress:  67.00%\ttrain acc=0.8427\tval acc=0.8382\n",
      "progress:  68.00%\ttrain acc=0.8426\tval acc=0.8382\n",
      "progress:  69.00%\ttrain acc=0.8426\tval acc=0.8383\n",
      "progress:  70.00%\ttrain acc=0.8426\tval acc=0.8383\n",
      "progress:  71.00%\ttrain acc=0.8426\tval acc=0.8382\n",
      "progress:  72.00%\ttrain acc=0.8427\tval acc=0.8383\n",
      "progress:  73.00%\ttrain acc=0.8427\tval acc=0.8382\n",
      "progress:  74.00%\ttrain acc=0.8427\tval acc=0.8382\n",
      "progress:  75.00%\ttrain acc=0.8427\tval acc=0.8382\n",
      "progress:  76.00%\ttrain acc=0.8426\tval acc=0.8382\n",
      "progress:  77.00%\ttrain acc=0.8426\tval acc=0.8382\n",
      "progress:  78.00%\ttrain acc=0.8427\tval acc=0.8381\n",
      "progress:  79.00%\ttrain acc=0.8427\tval acc=0.8382\n",
      "progress:  80.00%\ttrain acc=0.8427\tval acc=0.8381\n",
      "progress:  81.00%\ttrain acc=0.8427\tval acc=0.8382\n",
      "progress:  82.00%\ttrain acc=0.8427\tval acc=0.8381\n",
      "progress:  83.00%\ttrain acc=0.8427\tval acc=0.8381\n",
      "progress:  84.00%\ttrain acc=0.8427\tval acc=0.8381\n",
      "progress:  85.00%\ttrain acc=0.8427\tval acc=0.8381\n",
      "progress:  86.00%\ttrain acc=0.8427\tval acc=0.8382\n",
      "progress:  87.00%\ttrain acc=0.8427\tval acc=0.8382\n",
      "progress:  88.00%\ttrain acc=0.8427\tval acc=0.8381\n",
      "progress:  89.00%\ttrain acc=0.8427\tval acc=0.8381\n",
      "progress:  90.00%\ttrain acc=0.8427\tval acc=0.8382\n",
      "progress:  91.00%\ttrain acc=0.8427\tval acc=0.8382\n",
      "progress:  92.00%\ttrain acc=0.8427\tval acc=0.8382\n",
      "progress:  93.00%\ttrain acc=0.8427\tval acc=0.8382\n",
      "progress:  94.00%\ttrain acc=0.8426\tval acc=0.8382\n",
      "progress:  95.00%\ttrain acc=0.8426\tval acc=0.8382\n",
      "progress:  96.00%\ttrain acc=0.8426\tval acc=0.8382\n",
      "progress:  97.00%\ttrain acc=0.8426\tval acc=0.8382\n",
      "progress:  98.00%\ttrain acc=0.8426\tval acc=0.8382\n",
      "progress:  99.00%\ttrain acc=0.8426\tval acc=0.8382\n",
      "fit routine completed, execution time: 9253.88s\n"
     ]
    },
    {
     "data": {
      "text/plain": [
       "<Aurelio_Amerio_MLPClassifier_lib_v6_3.MLPClassifier at 0x130c3acd780>"
      ]
     },
     "execution_count": 133,
     "metadata": {},
     "output_type": "execute_result"
    }
   ],
   "source": [
    "learning_rate_7 = 0.001\n",
    "# we need a big dropout in order to contrast the tendency to overfit of a model with a high number of nodes'\n",
    "keep_probs_7 = (0.8, 0.5, 0.5, 0.5) \n",
    "batch_size_7 = 64\n",
    "max_epochs_7 = 1000\n",
    "beta_w_7 = 0.0005\n",
    "beta_b_7 = 0.00005\n",
    "decay_rate_7 = 0.96\n",
    "decay_steps_7 = 10000 # I want the learning rate to be around 0.0001 around the 30% of the optimization process\n",
    "display_step_7 = 10\n",
    "n_features_7 = n_components_pca\n",
    "# %% create model with 3 hidden layers\n",
    "model7 = MLPClassifier(n_layers=4, n_nodes=(600,400,400,400), learning_rate=learning_rate_7, random_seed=None,\n",
    "                          n_features=n_features_7, n_classes=2)\n",
    "model7.fit(X_train=X_train_pca, y_train=y_train, max_epochs=max_epochs_7,\n",
    "           display_step=display_step_7, batch_size=batch_size_7, keep_probs=keep_probs_7, validation_split=0.1,\n",
    "           beta_w=beta_w_7, beta_b=beta_b_7, decay_rate=decay_rate_7, decay_steps=decay_steps_7, verbose=True)"
   ]
  },
  {
   "cell_type": "code",
   "execution_count": 134,
   "metadata": {},
   "outputs": [
    {
     "name": "stdout",
     "output_type": "stream",
     "text": [
      "model7 accuracy on train set: 0.842\n"
     ]
    }
   ],
   "source": [
    "print(\"model7 accuracy on train set: {:.3f}\".format(model7.score(X_train_pca, y_train)))\n",
    "#print(\"model7 accuracy on validation set: {:.3f}\".format(model7.score(model7.X_val, model6.y_val)))"
   ]
  },
  {
   "cell_type": "code",
   "execution_count": 137,
   "metadata": {},
   "outputs": [
    {
     "data": {
      "image/png": "[encoded data removed]",
      "text/plain": [
       "<Figure size 432x432 with 2 Axes>"
      ]
     },
     "metadata": {},
     "output_type": "display_data"
    }
   ],
   "source": [
    "# %% plot results\n",
    "fig7, axes = plt.subplots(2, 1, figsize=(6, 6))\n",
    "\n",
    "x_ticks = np.arange(0, max_epochs_7, display_step_7)\n",
    "\n",
    "\n",
    "axes[0].plot(x_ticks, model7.training_costs, color=\"red\", label=\"model6 training\")\n",
    "axes[0].plot(x_ticks, model7.val_costs, color=\"orange\", label=\"model6 validation\", linestyle=\"dashed\")\n",
    "\n",
    "axes[0].set_xlabel(\"epochs\")\n",
    "axes[0].set_xscale(\"linear\")\n",
    "axes[0].set_ylabel(\"cost\")\n",
    "axes[0].set_yscale(\"log\")\n",
    "#axes[0].set_ylim(0,10000)\n",
    "axes[0].set_title(\n",
    "    \"cost(epoch),\\nbatch_size={}, epochs={}\".format(batch_size_7, max_epochs_7))\n",
    "axes[0].legend()\n",
    "\n",
    "\n",
    "axes[1].plot(x_ticks, model7.training_accuracy, color=\"red\", label=\"model6 training\")\n",
    "axes[1].plot(x_ticks, model7.val_accuracy, color=\"orange\", label=\"model6 validation\", linestyle=\"dashed\")\n",
    "\n",
    "axes[1].set_xlabel(\"epochs\")\n",
    "axes[1].set_xscale(\"log\")\n",
    "axes[1].set_ylabel(\"accuracy\")\n",
    "axes[1].set_title(\n",
    "    \"accuracy(epoch),\\nbatch_size={}, epochs={}\".format(batch_size_7, max_epochs_7))\n",
    "axes[1].legend()\n",
    "\n",
    "fig7.tight_layout()\n",
    "plt.show()\n",
    "\n",
    "fig7.savefig(\"higgs_fig7_model6.png\", dpi=500)\n",
    "\n",
    "\n"
   ]
  },
  {
   "cell_type": "code",
   "execution_count": 138,
   "metadata": {},
   "outputs": [
    {
     "name": "stdout",
     "output_type": "stream",
     "text": [
      "model7 accuracy on test set: 0.838\n",
      "model7 AMS: 0.9993\n"
     ]
    }
   ],
   "source": [
    "print(\"model7 accuracy on test set: {:.3f}\".format(model7.score(X_test_pca, y_test)))\n",
    "#ams only available for all the data\n",
    "print(\"model7 AMS: {:.4f}\".format(compute_AMS(model7, X_test_pca)))"
   ]
  }
 ],
 "metadata": {
  "kernelspec": {
   "display_name": "Python 3",
   "language": "python",
   "name": "python3"
  },
  "language_info": {
   "codemirror_mode": {
    "name": "ipython",
    "version": 3
   },
   "file_extension": ".py",
   "mimetype": "text/x-python",
   "name": "python",
   "nbconvert_exporter": "python",
   "pygments_lexer": "ipython3",
   "version": "3.5.5"
  }
 },
 "nbformat": 4,
 "nbformat_minor": 1
}
